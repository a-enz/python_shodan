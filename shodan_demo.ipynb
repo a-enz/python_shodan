{
 "cells": [
  {
   "cell_type": "code",
   "execution_count": 46,
   "metadata": {},
   "outputs": [],
   "source": [
    "from shodan import Shodan\n",
    "import pandas as pd\n",
    "import matplotlib.pyplot as plt\n",
    "\n",
    "# Define number of countries to process from input file\n",
    "N_COUNTRIES = 3\n",
    "\n",
    "# Read API key from file and initialiye shodan API\n",
    "with open('input/api.key', 'r') as file:\n",
    "    key = file.read().rstrip()\n",
    "api = Shodan(key)\n"
   ]
  },
  {
   "cell_type": "code",
   "execution_count": 47,
   "metadata": {},
   "outputs": [
    {
     "name": "stdout",
     "output_type": "stream",
     "text": [
      "  code  population\n",
      "0   AF    29121286\n",
      "1   AL     2986952\n",
      "2   DZ    34586184\n"
     ]
    }
   ],
   "source": [
    "\n",
    "# function to get the total number of industrial control systems services on the Internet per Country\n",
    "def get_ics_counts(country_code):\n",
    "    return api.count(f'tag:ics country:{country_code}')['total']\n",
    "\n",
    "\n",
    "# Initialize Data Frame with population data and country codes from file\n",
    "countries = pd.read_csv('input/countries.csv', nrows=N_COUNTRIES, header=0)\n",
    "print(countries)\n"
   ]
  },
  {
   "cell_type": "code",
   "execution_count": 48,
   "metadata": {},
   "outputs": [
    {
     "name": "stdout",
     "output_type": "stream",
     "text": [
      "  code  population  ics_counts\n",
      "0   AF    29121286           0\n",
      "1   AL     2986952           8\n",
      "2   DZ    34586184           5\n"
     ]
    }
   ],
   "source": [
    "\n",
    "# Download ics data from shodan for each country\n",
    "ics_counts = [get_ics_counts(code) for code in countries['code']]\n",
    "\n",
    "# Update Data Frame with ics data\n",
    "countries['ics_counts'] = ics_counts\n",
    "print(countries)\n"
   ]
  },
  {
   "cell_type": "code",
   "execution_count": 50,
   "metadata": {},
   "outputs": [
    {
     "data": {
      "image/png": "[encoded data removed]",
      "text/plain": [
       "<Figure size 640x480 with 1 Axes>"
      ]
     },
     "metadata": {},
     "output_type": "display_data"
    }
   ],
   "source": [
    "# Plot Population vs number of ics in a country\n",
    "figure = countries.plot.scatter(x='population',y='ics_counts')\n",
    "# figure.axes.set_xscale('log')\n",
    "plt.savefig(f'output/scatterplot_of_{N_COUNTRIES}_countries.png')"
   ]
  },
  {
   "cell_type": "code",
   "execution_count": 51,
   "metadata": {},
   "outputs": [
    {
     "name": "stdout",
     "output_type": "stream",
     "text": [
      "Empty DataFrame\n",
      "Columns: [code, population, ics_counts]\n",
      "Index: []\n",
      "Empty DataFrame\n",
      "Columns: [code, population, ics_counts]\n",
      "Index: []\n"
     ]
    }
   ],
   "source": [
    "# Explore data with selectors\n",
    "print(countries[countries['population'] > 500000000])\n",
    "print(countries[countries['ics_counts'] > 4000])\n"
   ]
  }
 ],
 "metadata": {
  "kernelspec": {
   "display_name": "Python 3.10.8 ('.venv': venv)",
   "language": "python",
   "name": "python3"
  },
  "language_info": {
   "codemirror_mode": {
    "name": "ipython",
    "version": 3
   },
   "file_extension": ".py",
   "mimetype": "text/x-python",
   "name": "python",
   "nbconvert_exporter": "python",
   "pygments_lexer": "ipython3",
   "version": "3.10.8"
  },
  "orig_nbformat": 4,
  "vscode": {
   "interpreter": {
    "hash": "ce8b1750f27d51a733a681bdddc0408a5ce70e8d0986205cca400e5e10329b4a"
   }
  }
 },
 "nbformat": 4,
 "nbformat_minor": 2
}
